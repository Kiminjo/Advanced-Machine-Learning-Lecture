{
 "cells": [
  {
   "cell_type": "code",
   "execution_count": 1,
   "metadata": {},
   "outputs": [],
   "source": [
    "import numpy as np\n",
    "import pandas as pd\n",
    "from pprint import pprint"
   ]
  },
  {
   "cell_type": "code",
   "execution_count": 2,
   "metadata": {},
   "outputs": [],
   "source": [
    "data=pd.read_csv('https://drive.google.com/uc?export=download&id=1taoE9WlUUN4IbzDzHv7mxk_xSj07f-Zt', sep=' ')\n",
    "\n",
    "str1={'A':[],'S':[],'E':['A','S'],'O':['E'],'R':['E'],'T':['O','R']}\n",
    "str2={'A':['E'],'S':['A','E'],'E':['O','R'],'O':['R','T'],'R':['T'],'T':[]}"
   ]
  },
  {
   "cell_type": "code",
   "execution_count": 50,
   "metadata": {},
   "outputs": [],
   "source": [
    "def get_order(structure):\n",
    "    \n",
    "    structure_copy = structure.copy()\n",
    "    \n",
    "    def order(df, order_list, structure, structure_copy) :\n",
    "            \n",
    "        #dataframe 재정렬\n",
    "        df.sort_values(by=['value'], inplace=True)\n",
    "        df.reset_index(drop=True, inplace=True)\n",
    "        \n",
    "        # order_list에 key값 저장\n",
    "        order_var = df['key'][0]\n",
    "        order_list.append(order_var)\n",
    "        #저장후 제거\n",
    "        df.drop([0], axis=0, inplace=True)\n",
    "        for index, value in df.iterrows() :\n",
    "            if order_var in df['value'][index] :\n",
    "                df['value'][index].remove(order_var)\n",
    "        \n",
    "        return df, order_list, structure_copy\n",
    "    \n",
    "    #make data frame\n",
    "    key_list = []\n",
    "    value_list = []\n",
    "    \n",
    "    #find total parents\n",
    "    for key, value in structure.items():\n",
    "        key_list.append(key)\n",
    "        value_list.append(value)\n",
    "        df = pd.DataFrame({'key' : key_list, 'value' : value_list})\n",
    "\n",
    "        \n",
    "    iter_num = len(df)\n",
    "    order_list = []\n",
    "    df_copy = df.copy()\n",
    "\n",
    "    for length in range(iter_num) : \n",
    "        df_copy, order_list, structure = order(df_copy,order_list, structure, structure_copy)\n",
    "    print(structure)\n",
    "    print('*************************************')\n",
    "\n",
    "        \n",
    "    return order_list"
   ]
  },
  {
   "cell_type": "code",
   "execution_count": 51,
   "metadata": {},
   "outputs": [
    {
     "name": "stdout",
     "output_type": "stream",
     "text": [
      "{'A': [], 'S': [], 'E': [], 'O': [], 'R': [], 'T': []}\n",
      "*************************************\n"
     ]
    },
    {
     "data": {
      "text/plain": [
       "['A', 'S', 'E', 'O', 'R', 'T']"
      ]
     },
     "execution_count": 51,
     "metadata": {},
     "output_type": "execute_result"
    }
   ],
   "source": [
    "str1={'A':[],'S':[],'E':['A','S'],'O':['E'],'R':['E'],'T':['O','R']}\n",
    "order1=get_order(str1)\n",
    "order1"
   ]
  },
  {
   "cell_type": "code",
   "execution_count": 49,
   "metadata": {},
   "outputs": [
    {
     "name": "stdout",
     "output_type": "stream",
     "text": [
      "{'A': ['E'], 'S': ['A', 'E'], 'E': ['O', 'R'], 'O': ['R', 'T'], 'R': ['T'], 'T': []}\n",
      "----------------------------\n",
      "{'A': [], 'S': [], 'E': [], 'O': [], 'R': [], 'T': []}\n",
      "*************************************\n"
     ]
    },
    {
     "data": {
      "text/plain": [
       "['T', 'R', 'O', 'E', 'A', 'S']"
      ]
     },
     "execution_count": 49,
     "metadata": {},
     "output_type": "execute_result"
    }
   ],
   "source": [
    "str2={'A':['E'],'S':['A','E'],'E':['O','R'],'O':['R','T'],'R':['T'],'T':[]}\n",
    "order2=get_order(str2)\n",
    "order2"
   ]
  },
  {
   "cell_type": "code",
   "execution_count": 6,
   "metadata": {},
   "outputs": [
    {
     "data": {
      "text/plain": [
       "{'A': [], 'S': [], 'E': [], 'O': [], 'R': [], 'T': []}"
      ]
     },
     "execution_count": 6,
     "metadata": {},
     "output_type": "execute_result"
    }
   ],
   "source": [
    "str1"
   ]
  },
  {
   "cell_type": "code",
   "execution_count": 7,
   "metadata": {},
   "outputs": [],
   "source": [
    "def learn_parms(data,structure,var_order):\n",
    "    # data: training data\n",
    "    # structure: dictionary of structure\n",
    "    # var_order: list of learning order of variables\n",
    "    # return dictionary of trained parameters (key=variable, value=learned parameters)\n",
    "    \n",
    "    dict_ = {}\n",
    "    for var in var_order :\n",
    "        df__ = pd.DataFrame()\n",
    "        matrix = []\n",
    "        key_list = []\n",
    "        \n",
    "        if len(structure[var]) == 0 :\n",
    "            df_ =  pd.DataFrame(list(data[var].value_counts(normalize=True))).T\n",
    "            df_.columns = np.unique(data[var])\n",
    "            dict_[var] =  df_\n",
    "            continue ;\n",
    "        \n",
    "        grouped = data.groupby(structure[var])\n",
    "        row_number = 0\n",
    "        for key, group in grouped :\n",
    "            matrix.append(list(group[var].value_counts(normalize=True)))\n",
    "            df = pd.DataFrame(matrix)\n",
    "            df.columns = np.unique(data[var])\n",
    "            key_list.append(key)\n",
    "        \n",
    "        df.index = key_list\n",
    "        dict_[var] = df\n",
    "        \n",
    "    return dict_"
   ]
  },
  {
   "cell_type": "code",
   "execution_count": 10,
   "metadata": {},
   "outputs": [],
   "source": [
    "def print_parms(var_order,parms):\n",
    "    # var_order: list of learning order of variables\n",
    "    # parms: dictionary of trained parameters (key=variable, value=learned parameters)\n",
    "    # print the trained parameters for each variable\n",
    "    for var in var_order:\n",
    "        print('-------------------------')\n",
    "        print('Variable Name=%s'%(var))\n",
    "        #TODO: print the trained paramters\n",
    "        \n",
    "        print(parms[var])"
   ]
  },
  {
   "cell_type": "code",
   "execution_count": null,
   "metadata": {},
   "outputs": [],
   "source": []
  },
  {
   "cell_type": "code",
   "execution_count": 53,
   "metadata": {},
   "outputs": [
    {
     "data": {
      "text/plain": [
       "array(['high', 'uni'], dtype=object)"
      ]
     },
     "execution_count": 53,
     "metadata": {},
     "output_type": "execute_result"
    }
   ],
   "source": [
    "np.unique(data['E'])"
   ]
  },
  {
   "cell_type": "code",
   "execution_count": null,
   "metadata": {},
   "outputs": [],
   "source": []
  }
 ],
 "metadata": {
  "kernelspec": {
   "display_name": "Python 3",
   "language": "python",
   "name": "python3"
  },
  "language_info": {
   "codemirror_mode": {
    "name": "ipython",
    "version": 3
   },
   "file_extension": ".py",
   "mimetype": "text/x-python",
   "name": "python",
   "nbconvert_exporter": "python",
   "pygments_lexer": "ipython3",
   "version": "3.8.3"
  }
 },
 "nbformat": 4,
 "nbformat_minor": 4
}
